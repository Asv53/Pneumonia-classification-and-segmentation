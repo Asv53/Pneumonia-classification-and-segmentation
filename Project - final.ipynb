{
 "cells": [
  {
   "cell_type": "code",
   "execution_count": 31,
   "metadata": {},
   "outputs": [],
   "source": [
    "#IMPORT STATEMENTS\n",
    "\n",
    "import torch\n",
    "import torch.nn as nn\n",
    "import torch.optim as optim\n",
    "from torch.utils.data import DataLoader, Dataset\n",
    "from torchvision import datasets, transforms\n",
    "from matplotlib import pyplot as plt\n",
    "from sklearn.decomposition import PCA\n",
    "from sklearn.metrics import accuracy_score, confusion_matrix, precision_score, recall_score, f1_score\n",
    "from sklearn.model_selection import train_test_split\n",
    "from torchsummary import summary\n",
    "import numpy as np\n",
    "import pandas as pd\n",
    "import os\n",
    "import cv2\n",
    "import torch\n",
    "import pydicom\n",
    "from PIL import Image\n",
    "import matplotlib.image as mpimg\n",
    "import torchvision.transforms as transforms\n",
    "import torch.nn.functional as F\n",
    "import torchvision.transforms.functional as TF\n",
    "from torchvision.utils import save_image\n",
    "import albumentations as A\n",
    "from albumentations.pytorch import ToTensorV2\n",
    "from torch.optim.lr_scheduler import ReduceLROnPlateau"
   ]
  },
  {
   "cell_type": "code",
   "execution_count": 32,
   "metadata": {},
   "outputs": [],
   "source": [
    "#CUDA INITIALIZATION\n",
    "\n",
    "device = torch.device(\"cuda\" if torch.cuda.is_available() else \"cpu\")"
   ]
  },
  {
   "cell_type": "code",
   "execution_count": 33,
   "metadata": {},
   "outputs": [],
   "source": [
    "#APPLYING CLAHE\n",
    "\n",
    "def apply_clahe_to_folder(input_folder, output_folder, clip_limit=2.0, grid_size=(8, 8)):\n",
    "\n",
    "    if not os.path.exists(output_folder):\n",
    "        os.makedirs(output_folder)\n",
    "\n",
    "\n",
    "    for filename in os.listdir(input_folder):\n",
    "        input_path = os.path.join(input_folder, filename)\n",
    "        output_path = os.path.join(output_folder, filename)\n",
    "\n",
    "\n",
    "        if os.path.isfile(input_path) and any(ext.lower() in filename.lower() for ext in ['.jpg', '.png', '.jpeg']):\n",
    "\n",
    "            image = cv2.imread(input_path)\n",
    "\n",
    "            if len(image.shape) == 3:\n",
    "                image = cv2.cvtColor(image, cv2.COLOR_BGR2GRAY)\n",
    "\n",
    "            clahe = cv2.createCLAHE(clipLimit=clip_limit, tileGridSize=grid_size)\n",
    "            clahe_image = clahe.apply(image)\n",
    "\n",
    "            cv2.imwrite(output_path, clahe_image)"
   ]
  },
  {
   "cell_type": "code",
   "execution_count": null,
   "metadata": {},
   "outputs": [],
   "source": [
    "\n",
    "input_folder_path = \"data/cnn_clahe/train/NORMAL\"\n",
    "output_folder_path = \"data/cnn_clahe/train/NORMAL\"\n",
    "\n",
    "input_folder_path1 = \"data/cnn_clahe/train/PNEUMONIA\"\n",
    "output_folder_path1 = \"data/cnn_clahe/train/PNEUMONIA\"\n",
    "\n",
    "\n",
    "apply_clahe_to_folder(input_folder_path, output_folder_path)\n",
    "print(f\"CLAHE applied to {input_folder_path} and saved to {output_folder_path}\")\n",
    "apply_clahe_to_folder(input_folder_path1, output_folder_path1)\n",
    "print(f\"CLAHE applied to {input_folder_path1} and saved to {output_folder_path1}\")\n",
    "\n",
    "input_folder_path = \"data/cnn_clahe/test/NORMAL\"\n",
    "output_folder_path = \"data/cnn_clahe/test/NORMAL\"\n",
    "\n",
    "input_folder_path1 = \"data/cnn_clahe/test/PNEUMONIA\"\n",
    "output_folder_path1 = \"data/cnn_clahe/test/PNEUMONIA\"\n",
    "\n",
    "apply_clahe_to_folder(input_folder_path, output_folder_path)\n",
    "print(f\"CLAHE applied to {input_folder_path} and saved to {output_folder_path}\")\n",
    "apply_clahe_to_folder(input_folder_path1, output_folder_path1)\n",
    "print(f\"CLAHE applied to {input_folder_path1} and saved to {output_folder_path1}\")"
   ]
  },
  {
   "cell_type": "code",
   "execution_count": 34,
   "metadata": {},
   "outputs": [],
   "source": [
    "#CNN ARCHITECTURE AND DATA LOADING\n",
    "\n",
    "class CNNModel(nn.Module):\n",
    "    def __init__(self):\n",
    "        super(CNNModel, self).__init__()\n",
    "        self.conv1 = nn.Sequential(\n",
    "            nn.Conv2d(in_channels=3, out_channels=32, kernel_size=5, padding=2),\n",
    "            nn.Conv2d(in_channels=32, out_channels=32, kernel_size=5, padding=2),\n",
    "            nn.BatchNorm2d(32),\n",
    "            nn.ReLU(),\n",
    "            nn.MaxPool2d(kernel_size=2, stride=2)\n",
    "        )\n",
    "\n",
    "        self.conv2 = nn.Sequential(\n",
    "            nn.Conv2d(in_channels=32, out_channels=64, kernel_size=3, padding=0),\n",
    "            nn.Conv2d(in_channels=64, out_channels=64, kernel_size=3, padding=0),\n",
    "            nn.BatchNorm2d(64),\n",
    "            nn.ReLU(),\n",
    "            nn.MaxPool2d(kernel_size=2, stride=2)\n",
    "        )\n",
    "\n",
    "        self.conv3 = nn.Sequential(\n",
    "            nn.Conv2d(in_channels=64, out_channels=128, kernel_size=3, padding=0),\n",
    "            nn.Conv2d(in_channels=128, out_channels=128, kernel_size=3, padding=0),\n",
    "            nn.BatchNorm2d(128),\n",
    "            nn.ReLU(),\n",
    "            nn.MaxPool2d(kernel_size=2, stride=2)\n",
    "        )\n",
    "        \n",
    "        self.dropout = nn.Dropout(p=0.5)\n",
    "\n",
    "        self.fc1 = nn.Sequential(\n",
    "            nn.Linear(in_features=80000, out_features=1024),\n",
    "            nn.BatchNorm1d(1024),\n",
    "            nn.ReLU(),\n",
    "            nn.Dropout(p=0.5),\n",
    "            nn.Linear(in_features=1024, out_features=512)\n",
    "        )\n",
    "\n",
    "    def forward(self, x):\n",
    "        x = self.conv1(x)\n",
    "        x = self.conv2(x)\n",
    "        x = self.conv3(x)\n",
    "        x = self.dropout(x)\n",
    "        x = torch.flatten(x, 1)\n",
    "        x = self.fc1(x)\n",
    "        return x\n",
    "\n",
    "transform = transforms.Compose([\n",
    "    transforms.Resize((224, 224)), \n",
    "    transforms.ToTensor(),\n",
    "    transforms.Normalize((0.5, 0.5, 0.5), (0.5, 0.5, 0.5))\n",
    "])\n",
    "\n",
    "train_dataset = datasets.ImageFolder(root='data/cnn_clahe/train', transform=transform)\n",
    "train_loader = DataLoader(train_dataset, batch_size=32, shuffle=True)\n",
    "\n",
    "cnn_model = CNNModel().to(device)"
   ]
  },
  {
   "cell_type": "code",
   "execution_count": 5,
   "metadata": {},
   "outputs": [
    {
     "name": "stdout",
     "output_type": "stream",
     "text": [
      "----------------------------------------------------------------\n",
      "        Layer (type)               Output Shape         Param #\n",
      "================================================================\n",
      "            Conv2d-1         [-1, 32, 224, 224]           2,432\n",
      "            Conv2d-2         [-1, 32, 224, 224]          25,632\n",
      "       BatchNorm2d-3         [-1, 32, 224, 224]              64\n",
      "              ReLU-4         [-1, 32, 224, 224]               0\n",
      "         MaxPool2d-5         [-1, 32, 112, 112]               0\n",
      "            Conv2d-6         [-1, 64, 110, 110]          18,496\n",
      "            Conv2d-7         [-1, 64, 108, 108]          36,928\n",
      "       BatchNorm2d-8         [-1, 64, 108, 108]             128\n",
      "              ReLU-9         [-1, 64, 108, 108]               0\n",
      "        MaxPool2d-10           [-1, 64, 54, 54]               0\n",
      "           Conv2d-11          [-1, 128, 52, 52]          73,856\n",
      "           Conv2d-12          [-1, 128, 50, 50]         147,584\n",
      "      BatchNorm2d-13          [-1, 128, 50, 50]             256\n",
      "             ReLU-14          [-1, 128, 50, 50]               0\n",
      "        MaxPool2d-15          [-1, 128, 25, 25]               0\n",
      "          Dropout-16          [-1, 128, 25, 25]               0\n",
      "           Linear-17                 [-1, 1024]      81,921,024\n",
      "      BatchNorm1d-18                 [-1, 1024]           2,048\n",
      "             ReLU-19                 [-1, 1024]               0\n",
      "          Dropout-20                 [-1, 1024]               0\n",
      "           Linear-21                  [-1, 512]         524,800\n",
      "================================================================\n",
      "Total params: 82,753,248\n",
      "Trainable params: 82,753,248\n",
      "Non-trainable params: 0\n",
      "----------------------------------------------------------------\n",
      "Input size (MB): 0.57\n",
      "Forward/backward pass size (MB): 87.70\n",
      "Params size (MB): 315.68\n",
      "Estimated Total Size (MB): 403.95\n",
      "----------------------------------------------------------------\n"
     ]
    }
   ],
   "source": [
    "summary(cnn_model, input_size=(3, 224, 224))"
   ]
  },
  {
   "cell_type": "code",
   "execution_count": null,
   "metadata": {},
   "outputs": [],
   "source": [
    "#LOSS FUNCTIONS\n",
    "\n",
    "criterion = nn.CrossEntropyLoss()\n",
    "optimizer = optim.Adam(cnn_model.parameters(), lr=0.001)"
   ]
  },
  {
   "cell_type": "code",
   "execution_count": null,
   "metadata": {},
   "outputs": [],
   "source": [
    "#TRAINING LOOP FOR CNN MODEL\n",
    "\n",
    "num_epochs = 15\n",
    "for epoch in range(num_epochs):\n",
    "    for inputs, labels in train_loader:\n",
    "        inputs, labels = inputs.to(device), labels.to(device)\n",
    "        optimizer.zero_grad()\n",
    "        outputs = cnn_model(inputs)\n",
    "        loss = criterion(outputs, labels)\n",
    "        loss.backward()\n",
    "        optimizer.step()\n",
    "    print(f'Epoch [{epoch + 1}/{num_epochs}], Loss: {loss.item():.4f}')\n",
    "    \n",
    "\n",
    "torch.save(cnn_model.state_dict(), 'models/CNN.pth')\n",
    "print(\"CNN Model is saved at 'models/CNN.pth'\")\n"
   ]
  },
  {
   "cell_type": "code",
   "execution_count": 17,
   "metadata": {},
   "outputs": [
    {
     "name": "stdout",
     "output_type": "stream",
     "text": [
      "Loading CNN model from 'models/CNN.pth'\n"
     ]
    },
    {
     "data": {
      "text/plain": [
       "<All keys matched successfully>"
      ]
     },
     "execution_count": 17,
     "metadata": {},
     "output_type": "execute_result"
    }
   ],
   "source": [
    "#LOADING CNN MODEL\n",
    "\n",
    "print(\"Loading CNN model from 'models/CNN.pth'\")\n",
    "cnn_model.load_state_dict(torch.load('models/CNN.pth'))"
   ]
  },
  {
   "cell_type": "code",
   "execution_count": 21,
   "metadata": {},
   "outputs": [
    {
     "name": "stdout",
     "output_type": "stream",
     "text": [
      "Features extracted sucessfully\n"
     ]
    }
   ],
   "source": [
    "#EXTRACT FEATURES FROM CNN MODEL TO APPLY PCA (DIMENSIONALITY REDUCTION)\n",
    "\n",
    "def extract_features(loader):\n",
    "    cnn_features, cnn_labels = [], []\n",
    "    with torch.no_grad():\n",
    "        for inputs, labels in loader:\n",
    "            inputs, labels = inputs.to(device), labels.to(device)\n",
    "            features = cnn_model(inputs)    \n",
    "            cnn_features.append(features.cpu().numpy())\n",
    "            cnn_labels.append(labels.cpu().numpy())\n",
    "\n",
    "    cnn_features = np.concatenate(cnn_features, axis=0)\n",
    "    cnn_labels = np.concatenate(cnn_labels, axis=0)\n",
    "    return cnn_features, cnn_labels\n",
    "\n",
    "cnn_features, cnn_labels = extract_features(train_loader)\n",
    "print(\"Features extracted sucessfully\")"
   ]
  },
  {
   "cell_type": "code",
   "execution_count": 22,
   "metadata": {},
   "outputs": [
    {
     "name": "stdout",
     "output_type": "stream",
     "text": [
      "PCA applied sucessfully\n"
     ]
    }
   ],
   "source": [
    "#APPLYING PCA TO CNN OUTPUT\n",
    "\n",
    "pca_components = 100 \n",
    "pca = PCA(n_components=pca_components)\n",
    "cnn_features_pca = pca.fit_transform(cnn_features)\n",
    "print(\"PCA applied sucessfully\")"
   ]
  },
  {
   "cell_type": "code",
   "execution_count": 23,
   "metadata": {},
   "outputs": [],
   "source": [
    "#SPLITTING THE DATA INTO TRAINING AND TESTING\n",
    "\n",
    "x_train, x_test, y_train, y_test = train_test_split(cnn_features_pca, cnn_labels, test_size=0.1, random_state=42)\n",
    "\n",
    "x_train = torch.from_numpy(x_train).to(device)\n",
    "x_test = torch.from_numpy(x_test).to(device)\n",
    "y_train = torch.from_numpy(y_train).to(device).long()\n",
    "y_test = torch.from_numpy(y_test).to(device).long()"
   ]
  },
  {
   "cell_type": "code",
   "execution_count": 35,
   "metadata": {},
   "outputs": [],
   "source": [
    "#ELM MODEL ARCHITECTURE \n",
    "\n",
    "class ELMModel(nn.Module):\n",
    "    def __init__(self, input_size=100, hidden_size=500, output_size=2):\n",
    "        super(ELMModel, self).__init__()\n",
    "        self.input_size = input_size\n",
    "        self.hidden_size = hidden_size\n",
    "        self.output_size = output_size\n",
    "        self.input_to_hidden_weights = nn.Parameter(torch.rand(self.input_size, self.hidden_size).to(device))\n",
    "        self.hidden_biases = nn.Parameter(torch.zeros(1, self.hidden_size).to(device))\n",
    "        self.hidden_to_output_weights = nn.Parameter(torch.zeros(self.hidden_size, self.output_size).to(device))\n",
    "        self.output_biases = nn.Parameter(torch.zeros(1, self.output_size).to(device))\n",
    "        self.activation = nn.ReLU()\n",
    "\n",
    "    def forward(self, x):\n",
    "\n",
    "        hidden_output = self.activation(torch.Tensor(x).to(device) @ self.input_to_hidden_weights + self.hidden_biases)\n",
    "        output = hidden_output @ self.hidden_to_output_weights + self.output_biases\n",
    "        return output\n",
    "\n",
    "elm_model = ELMModel(100, 500, 2).to(device)"
   ]
  },
  {
   "cell_type": "code",
   "execution_count": null,
   "metadata": {},
   "outputs": [],
   "source": [
    "#LOSS FUNCTIONS\n",
    "\n",
    "criterion = nn.CrossEntropyLoss()\n",
    "optimizer = optim.Adam(elm_model.parameters(), lr=0.001)"
   ]
  },
  {
   "cell_type": "code",
   "execution_count": null,
   "metadata": {},
   "outputs": [],
   "source": [
    "#TRAINING LOOP FOR ELM\n",
    "\n",
    "num_epochs = 500\n",
    "for epoch in range(num_epochs):\n",
    "    optimizer.zero_grad()\n",
    "    outputs = elm_model(x_train)\n",
    "    loss = criterion(outputs, y_train)\n",
    "    loss.backward()\n",
    "    optimizer.step()\n",
    "    print(f'Epoch [{epoch + 1}/{num_epochs}], Loss: {loss.item():.4f}')\n",
    "    \n",
    "    \n",
    "torch.save(elm_model.state_dict(), 'models/ELM.pth')\n",
    "print(\"ELM model is saved at 'models/ELM.pth'\")"
   ]
  },
  {
   "cell_type": "code",
   "execution_count": 19,
   "metadata": {},
   "outputs": [
    {
     "name": "stdout",
     "output_type": "stream",
     "text": [
      "Loading ELM model from 'models/ELM.pth'\n"
     ]
    },
    {
     "data": {
      "text/plain": [
       "<All keys matched successfully>"
      ]
     },
     "execution_count": 19,
     "metadata": {},
     "output_type": "execute_result"
    }
   ],
   "source": [
    "#LOADING ELM MODEL\n",
    "\n",
    "print(\"Loading ELM model from 'models/ELM.pth'\")\n",
    "elm_model.load_state_dict(torch.load('models/ELM.pth'))"
   ]
  },
  {
   "cell_type": "code",
   "execution_count": 24,
   "metadata": {},
   "outputs": [],
   "source": [
    "#TESTING THE ELM MODEL\n",
    "\n",
    "with torch.no_grad():\n",
    "    elm_model.eval()\n",
    "    test_outputs = elm_model(x_test)\n",
    "    _, predicted = torch.max(test_outputs, 1)"
   ]
  },
  {
   "cell_type": "code",
   "execution_count": 25,
   "metadata": {},
   "outputs": [
    {
     "name": "stdout",
     "output_type": "stream",
     "text": [
      "Accuracy: 98.6590\n",
      "Confusion Matrix:\n",
      "[[129   3]\n",
      " [  4 386]]\n",
      "Recall: 98.9744\n",
      "Precision: 99.2288\n",
      "F1 Score: 99.1014\n"
     ]
    }
   ],
   "source": [
    "#METRICS FOR EVALUATING THE MODEL PERFORMANCE\n",
    "\n",
    "accuracy = accuracy_score(y_test.cpu().numpy(), predicted.cpu().numpy())\n",
    "print(f'Accuracy: {accuracy*100:.4f}')\n",
    "\n",
    "conf_matrix = confusion_matrix(y_test.cpu().numpy(), predicted.cpu().numpy())\n",
    "print('Confusion Matrix:')\n",
    "print(conf_matrix)\n",
    "\n",
    "recall = recall_score(y_test.cpu().numpy(), predicted.cpu().numpy())\n",
    "print(f'Recall: {recall*100:.4f}')\n",
    "\n",
    "precision = precision_score(y_test.cpu().numpy(), predicted.cpu().numpy())\n",
    "print(f'Precision: {precision*100:.4f}')\n",
    "\n",
    "f1 = f1_score(y_test.cpu().numpy(), predicted.cpu().numpy())\n",
    "print(f'F1 Score: {f1*100:.4f}')"
   ]
  },
  {
   "cell_type": "code",
   "execution_count": 36,
   "metadata": {},
   "outputs": [],
   "source": [
    "labels  = pd.read_csv(\"rsna/stage_2_train_labels.csv\")\n",
    "labels.fillna(0, inplace=True)\n",
    "labels = labels[labels['Target'] == 1]\n",
    "new_df = labels.head(5000)\n",
    "class_train, class_val = train_test_split(new_df, test_size=0.20, random_state=42)\n",
    "train_images_dir = \"rsna/stage_2_train_images/\""
   ]
  },
  {
   "cell_type": "code",
   "execution_count": 37,
   "metadata": {},
   "outputs": [
    {
     "name": "stdout",
     "output_type": "stream",
     "text": [
      "Masks created successfully\n"
     ]
    }
   ],
   "source": [
    "def create_mask(datafm, n_classes=2, device=\"cpu\"):\n",
    "    IMAGE_SIZE = 1024\n",
    "    ADJUSTED_IMAGE_SIZE = 224\n",
    "    FACTOR = ADJUSTED_IMAGE_SIZE / IMAGE_SIZE\n",
    "    X = []\n",
    "    y = []\n",
    "    masks = torch.zeros((len(datafm), ADJUSTED_IMAGE_SIZE, ADJUSTED_IMAGE_SIZE), device=device)\n",
    "    for index, patient_id in enumerate(datafm['patientId']):\n",
    "        image_path = train_images_dir + patient_id + \".dcm\"\n",
    "        img = pydicom.dcmread(image_path).pixel_array\n",
    "        img = cv2.resize(img, (ADJUSTED_IMAGE_SIZE, ADJUSTED_IMAGE_SIZE), interpolation=cv2.INTER_NEAREST)\n",
    "        X.append(img)\n",
    "        \n",
    "        rows = datafm[datafm['patientId'] == patient_id]\n",
    "        y.append(rows['Target'].values[0])\n",
    "\n",
    "        row_data = list(rows.T.to_dict().values())\n",
    "        for row in row_data:\n",
    "            x1 = int(row['x'] * FACTOR)\n",
    "            x2 = int((row['x'] * FACTOR) + (row['width'] * FACTOR))\n",
    "            y1 = int(row['y'] * FACTOR)\n",
    "            y2 = int((row['y'] * FACTOR) + (row['height'] * FACTOR))\n",
    "            masks[index, y1:y2, x1:x2] = 1\n",
    "\n",
    "    X = np.array(X)\n",
    "    y = np.array(y)\n",
    "    X = np.expand_dims(X, axis=-1)\n",
    "    X = np.repeat(X, 3, axis=-1)\n",
    "\n",
    "    train_masks_input = np.expand_dims(masks, axis=3)\n",
    "    train_masks_cat = np.array(torch.nn.functional.one_hot(torch.tensor(train_masks_input).long(), n_classes))\n",
    "    y_train_cat = train_masks_cat.reshape((train_masks_input.shape[0], train_masks_input.shape[1], train_masks_input.shape[2], n_classes))\n",
    "\n",
    "    return X, y_train_cat\n",
    "\n",
    "X_train, y_train = create_mask(class_train)\n",
    "X_val, y_val = create_mask(class_val)\n",
    "print(\"Masks created successfully\")\n"
   ]
  },
  {
   "cell_type": "code",
   "execution_count": 38,
   "metadata": {},
   "outputs": [
    {
     "name": "stdout",
     "output_type": "stream",
     "text": [
      "Images saved to data/train_images/\n",
      "Images saved to data/train_masks/\n",
      "Images saved to data/val_images/\n",
      "Images saved to data/val_masks/\n"
     ]
    }
   ],
   "source": [
    "#SAVING THE MASKS INTO .png FILES\n",
    "\n",
    "def save(path, data):\n",
    "    if not os.path.exists(path):\n",
    "        os.makedirs(path)\n",
    "\n",
    "    for i in range(len(data)):\n",
    "        img = Image.fromarray(data[i]) \n",
    "        img.save(f\"{path}/image_{i}.png\")\n",
    "        \n",
    "    print(f\"Images saved to {path}\")\n",
    "\n",
    "def preprocess_save(path, data):\n",
    "\n",
    "    if not os.path.exists(path):\n",
    "        os.makedirs(path)\n",
    "        \n",
    "    for i in range(data.shape[0]):  \n",
    "        segmentation_mask = np.argmax(data[i], axis=-1)  \n",
    "        black_mask = np.zeros((data.shape[1], data.shape[2]), dtype=np.uint8)\n",
    "        black_mask[segmentation_mask == 0] = 0\n",
    "        black_mask[segmentation_mask == 1] = 255\n",
    "        img = Image.fromarray(black_mask)\n",
    "        img.save(f'{path}/image_{i}.png')\n",
    "        \n",
    "    print(f\"Images saved to {path}\")\n",
    "\n",
    "\n",
    "save(\"data/train_images/\", X_train)\n",
    "preprocess_save(\"data/train_masks/\", y_train)\n",
    "\n",
    "save(\"data/val_images/\", X_val)\n",
    "preprocess_save(\"data/val_masks/\", y_val)\n"
   ]
  },
  {
   "cell_type": "code",
   "execution_count": 40,
   "metadata": {},
   "outputs": [],
   "source": [
    "#DECLARING HYPER PARAMETERS AND TRANSFORMATIONS FOR DATA LOADERS\n",
    "\n",
    "LEARNING_RATE = 1e-4\n",
    "BATCH_SIZE = 4\n",
    "NUM_EPOCHS = 30\n",
    "IMAGE_HEIGHT = 224\n",
    "IMAGE_WIDTH = 224  \n",
    "TRAIN_IMG_DIR = \"data/train_images/\"\n",
    "TRAIN_MASK_DIR = \"data/train_masks/\"\n",
    "VAL_IMG_DIR = \"data/val_images/\"\n",
    "VAL_MASK_DIR = \"data/val_masks/\""
   ]
  },
  {
   "cell_type": "code",
   "execution_count": 41,
   "metadata": {},
   "outputs": [
    {
     "name": "stdout",
     "output_type": "stream",
     "text": [
      "CLAHE applied to data/train_images/ and saved to data/train_images/\n",
      "CLAHE applied to data/val_images/ and saved to data/val_images/\n"
     ]
    }
   ],
   "source": [
    "\n",
    "input_folder_path = TRAIN_IMG_DIR\n",
    "output_folder_path = TRAIN_IMG_DIR\n",
    "\n",
    "input_folder_path1 = VAL_IMG_DIR\n",
    "output_folder_path1 = VAL_IMG_DIR\n",
    "\n",
    "\n",
    "apply_clahe_to_folder(input_folder_path, output_folder_path)\n",
    "print(f\"CLAHE applied to {input_folder_path} and saved to {output_folder_path}\")\n",
    "apply_clahe_to_folder(input_folder_path1, output_folder_path1)\n",
    "print(f\"CLAHE applied to {input_folder_path1} and saved to {output_folder_path1}\")"
   ]
  },
  {
   "cell_type": "code",
   "execution_count": 42,
   "metadata": {},
   "outputs": [],
   "source": [
    "#UNET ARCHITECTURE\n",
    "\n",
    "class DoubleConv(nn.Module):\n",
    "    def __init__(self, in_channels, out_channels):\n",
    "        super(DoubleConv, self).__init__()\n",
    "        self.conv = nn.Sequential(\n",
    "            nn.Conv2d(in_channels, out_channels*2, 3, 1, 1, bias=False),\n",
    "            nn.BatchNorm2d(out_channels*2),\n",
    "            nn.ReLU(inplace=True),\n",
    "            nn.Conv2d(out_channels*2, out_channels, 3, 1, 1, bias=False),\n",
    "            nn.BatchNorm2d(out_channels),\n",
    "            nn.ReLU(inplace=True),\n",
    "        )\n",
    "\n",
    "    def forward(self, x):\n",
    "        return self.conv(x)\n",
    "\n",
    "class UNET(nn.Module):\n",
    "    def __init__(\n",
    "            self, in_channels=3, out_channels=1, features=[64, 128, 256, 512],\n",
    "    ):\n",
    "        super(UNET, self).__init__()\n",
    "        self.ups = nn.ModuleList()\n",
    "        self.downs = nn.ModuleList()\n",
    "        self.pool = nn.MaxPool2d(kernel_size=2, stride=2)\n",
    "\n",
    "        # Down part of UNET\n",
    "        for feature in features:\n",
    "            self.downs.append(DoubleConv(in_channels, feature))\n",
    "            in_channels = feature\n",
    "\n",
    "        # Up part of UNET\n",
    "        for feature in reversed(features):\n",
    "            self.ups.append(\n",
    "                nn.ConvTranspose2d(\n",
    "                    feature*2, feature, kernel_size=2, stride=2,\n",
    "                )\n",
    "            )\n",
    "            self.ups.append(DoubleConv(feature*2, feature))\n",
    "\n",
    "        self.bottleneck = DoubleConv(features[-1], features[-1]*2)\n",
    "        self.final_conv = nn.Conv2d(features[0], out_channels, kernel_size=1)\n",
    "\n",
    "    def forward(self, x):\n",
    "        skip_connections = []\n",
    "\n",
    "        for down in self.downs:\n",
    "            x = down(x)\n",
    "            skip_connections.append(x)\n",
    "            x = self.pool(x)\n",
    "\n",
    "        x = self.bottleneck(x)\n",
    "        skip_connections = skip_connections[::-1]\n",
    "\n",
    "        for idx in range(0, len(self.ups), 2):\n",
    "            x = self.ups[idx](x)\n",
    "            skip_connection = skip_connections[idx//2]\n",
    "\n",
    "            if x.shape != skip_connection.shape:\n",
    "                x = TF.resize(x, size=skip_connection.shape[2:])\n",
    "\n",
    "            concat_skip = torch.cat((skip_connection, x), dim=1)\n",
    "            x = self.ups[idx+1](concat_skip)\n",
    "\n",
    "        return torch.sigmoid(self.final_conv(x))\n",
    "\n",
    "unet_model = UNET(in_channels=3, out_channels=1).to(device)"
   ]
  },
  {
   "cell_type": "code",
   "execution_count": 7,
   "metadata": {},
   "outputs": [
    {
     "name": "stdout",
     "output_type": "stream",
     "text": [
      "----------------------------------------------------------------\n",
      "        Layer (type)               Output Shape         Param #\n",
      "================================================================\n",
      "            Conv2d-1        [-1, 128, 224, 224]           3,456\n",
      "       BatchNorm2d-2        [-1, 128, 224, 224]             256\n",
      "              ReLU-3        [-1, 128, 224, 224]               0\n",
      "            Conv2d-4         [-1, 64, 224, 224]          73,728\n",
      "       BatchNorm2d-5         [-1, 64, 224, 224]             128\n",
      "              ReLU-6         [-1, 64, 224, 224]               0\n",
      "        DoubleConv-7         [-1, 64, 224, 224]               0\n",
      "         MaxPool2d-8         [-1, 64, 112, 112]               0\n",
      "            Conv2d-9        [-1, 256, 112, 112]         147,456\n",
      "      BatchNorm2d-10        [-1, 256, 112, 112]             512\n",
      "             ReLU-11        [-1, 256, 112, 112]               0\n",
      "           Conv2d-12        [-1, 128, 112, 112]         294,912\n",
      "      BatchNorm2d-13        [-1, 128, 112, 112]             256\n",
      "             ReLU-14        [-1, 128, 112, 112]               0\n",
      "       DoubleConv-15        [-1, 128, 112, 112]               0\n",
      "        MaxPool2d-16          [-1, 128, 56, 56]               0\n",
      "           Conv2d-17          [-1, 512, 56, 56]         589,824\n",
      "      BatchNorm2d-18          [-1, 512, 56, 56]           1,024\n",
      "             ReLU-19          [-1, 512, 56, 56]               0\n",
      "           Conv2d-20          [-1, 256, 56, 56]       1,179,648\n",
      "      BatchNorm2d-21          [-1, 256, 56, 56]             512\n",
      "             ReLU-22          [-1, 256, 56, 56]               0\n",
      "       DoubleConv-23          [-1, 256, 56, 56]               0\n",
      "        MaxPool2d-24          [-1, 256, 28, 28]               0\n",
      "           Conv2d-25         [-1, 1024, 28, 28]       2,359,296\n",
      "      BatchNorm2d-26         [-1, 1024, 28, 28]           2,048\n",
      "             ReLU-27         [-1, 1024, 28, 28]               0\n",
      "           Conv2d-28          [-1, 512, 28, 28]       4,718,592\n",
      "      BatchNorm2d-29          [-1, 512, 28, 28]           1,024\n",
      "             ReLU-30          [-1, 512, 28, 28]               0\n",
      "       DoubleConv-31          [-1, 512, 28, 28]               0\n",
      "        MaxPool2d-32          [-1, 512, 14, 14]               0\n",
      "           Conv2d-33         [-1, 2048, 14, 14]       9,437,184\n",
      "      BatchNorm2d-34         [-1, 2048, 14, 14]           4,096\n",
      "             ReLU-35         [-1, 2048, 14, 14]               0\n",
      "           Conv2d-36         [-1, 1024, 14, 14]      18,874,368\n",
      "      BatchNorm2d-37         [-1, 1024, 14, 14]           2,048\n",
      "             ReLU-38         [-1, 1024, 14, 14]               0\n",
      "       DoubleConv-39         [-1, 1024, 14, 14]               0\n",
      "  ConvTranspose2d-40          [-1, 512, 28, 28]       2,097,664\n",
      "           Conv2d-41         [-1, 1024, 28, 28]       9,437,184\n",
      "      BatchNorm2d-42         [-1, 1024, 28, 28]           2,048\n",
      "             ReLU-43         [-1, 1024, 28, 28]               0\n",
      "           Conv2d-44          [-1, 512, 28, 28]       4,718,592\n",
      "      BatchNorm2d-45          [-1, 512, 28, 28]           1,024\n",
      "             ReLU-46          [-1, 512, 28, 28]               0\n",
      "       DoubleConv-47          [-1, 512, 28, 28]               0\n",
      "  ConvTranspose2d-48          [-1, 256, 56, 56]         524,544\n",
      "           Conv2d-49          [-1, 512, 56, 56]       2,359,296\n",
      "      BatchNorm2d-50          [-1, 512, 56, 56]           1,024\n",
      "             ReLU-51          [-1, 512, 56, 56]               0\n",
      "           Conv2d-52          [-1, 256, 56, 56]       1,179,648\n",
      "      BatchNorm2d-53          [-1, 256, 56, 56]             512\n",
      "             ReLU-54          [-1, 256, 56, 56]               0\n",
      "       DoubleConv-55          [-1, 256, 56, 56]               0\n",
      "  ConvTranspose2d-56        [-1, 128, 112, 112]         131,200\n",
      "           Conv2d-57        [-1, 256, 112, 112]         589,824\n",
      "      BatchNorm2d-58        [-1, 256, 112, 112]             512\n",
      "             ReLU-59        [-1, 256, 112, 112]               0\n",
      "           Conv2d-60        [-1, 128, 112, 112]         294,912\n",
      "      BatchNorm2d-61        [-1, 128, 112, 112]             256\n",
      "             ReLU-62        [-1, 128, 112, 112]               0\n",
      "       DoubleConv-63        [-1, 128, 112, 112]               0\n",
      "  ConvTranspose2d-64         [-1, 64, 224, 224]          32,832\n",
      "           Conv2d-65        [-1, 128, 224, 224]         147,456\n",
      "      BatchNorm2d-66        [-1, 128, 224, 224]             256\n",
      "             ReLU-67        [-1, 128, 224, 224]               0\n",
      "           Conv2d-68         [-1, 64, 224, 224]          73,728\n",
      "      BatchNorm2d-69         [-1, 64, 224, 224]             128\n",
      "             ReLU-70         [-1, 64, 224, 224]               0\n",
      "       DoubleConv-71         [-1, 64, 224, 224]               0\n",
      "           Conv2d-72          [-1, 1, 224, 224]              65\n",
      "================================================================\n",
      "Total params: 59,283,073\n",
      "Trainable params: 59,283,073\n",
      "Non-trainable params: 0\n",
      "----------------------------------------------------------------\n",
      "Input size (MB): 0.57\n",
      "Forward/backward pass size (MB): 991.87\n",
      "Params size (MB): 226.15\n",
      "Estimated Total Size (MB): 1218.59\n",
      "----------------------------------------------------------------\n"
     ]
    }
   ],
   "source": [
    "summary(unet_model, input_size=(3, 224, 224))"
   ]
  },
  {
   "cell_type": "code",
   "execution_count": 43,
   "metadata": {},
   "outputs": [],
   "source": [
    "#CREATING DATA SET FOR UNET BASED ON PREVIOUSLY SAVED IMAGES\n",
    "\n",
    "class PneumoniaDataset(Dataset):\n",
    "    def __init__(self, image_dir, mask_dir, transform=None):\n",
    "        self.image_dir = image_dir\n",
    "        self.mask_dir = mask_dir\n",
    "        self.transform = transform\n",
    "        self.images = os.listdir(image_dir)\n",
    "\n",
    "    def __len__(self):\n",
    "        return len(self.images)\n",
    "\n",
    "    def __getitem__(self, index):\n",
    "        img_path = os.path.join(self.image_dir, self.images[index])\n",
    "        mask_path = os.path.join(self.mask_dir, self.images[index])\n",
    "        image = np.array(Image.open(img_path).convert(\"RGB\"))\n",
    "        mask = np.array(Image.open(mask_path).convert(\"L\"), dtype=np.float32)\n",
    "        mask[mask == 255.0] = 1.0\n",
    "\n",
    "        if self.transform is not None:\n",
    "            augmentations = self.transform(image=image, mask=mask)\n",
    "            image = augmentations[\"image\"]\n",
    "            mask = augmentations[\"mask\"]\n",
    "\n",
    "        return image, mask\n"
   ]
  },
  {
   "cell_type": "code",
   "execution_count": 44,
   "metadata": {},
   "outputs": [],
   "source": [
    "\n",
    "train_transform = A.Compose(\n",
    "    [\n",
    "        A.Resize(height=IMAGE_HEIGHT, width=IMAGE_WIDTH),\n",
    "        A.Rotate(limit=35, p=1.0),\n",
    "        A.HorizontalFlip(p=0.5),\n",
    "        A.VerticalFlip(p=0.1),\n",
    "        A.Normalize(\n",
    "            mean=[0.0, 0.0, 0.0],\n",
    "            std=[1.0, 1.0, 1.0],\n",
    "            max_pixel_value=255.0,\n",
    "        ),\n",
    "        ToTensorV2(),\n",
    "    ],\n",
    ")\n",
    "\n",
    "val_transforms = A.Compose(\n",
    "    [\n",
    "        A.Resize(height=IMAGE_HEIGHT, width=IMAGE_WIDTH),\n",
    "        A.Normalize(\n",
    "            mean=[0.0, 0.0, 0.0],\n",
    "            std=[1.0, 1.0, 1.0],\n",
    "            max_pixel_value=255.0,\n",
    "        ),\n",
    "        ToTensorV2(),\n",
    "    ],\n",
    ")\n",
    "\n",
    "#CREATING DATSETS AND DATA LOADERS FOR TRAINING AND VALIDATION\n",
    "\n",
    "def get_loaders(\n",
    "    train_dir,\n",
    "    train_maskdir,\n",
    "    val_dir,\n",
    "    val_maskdir,\n",
    "    batch_size,\n",
    "    train_transform,\n",
    "    val_transform,\n",
    "):\n",
    "    train_ds = PneumoniaDataset(\n",
    "        image_dir=train_dir,\n",
    "        mask_dir=train_maskdir,\n",
    "        transform=train_transform,\n",
    "    )\n",
    "\n",
    "    train_loader = DataLoader(\n",
    "        train_ds,\n",
    "        batch_size=batch_size,\n",
    "        shuffle=True,\n",
    "    )\n",
    "\n",
    "    val_ds = PneumoniaDataset(\n",
    "        image_dir=val_dir,\n",
    "        mask_dir=val_maskdir,\n",
    "        transform=val_transform,\n",
    "    )\n",
    "\n",
    "    val_loader = DataLoader(\n",
    "        val_ds,\n",
    "        batch_size=batch_size,\n",
    "        shuffle=False,\n",
    "    )\n",
    "\n",
    "    return train_loader, val_loader\n",
    "\n",
    "#DATA LOADERS\n",
    "\n",
    "train_loader, val_loader = get_loaders(\n",
    "    TRAIN_IMG_DIR,\n",
    "    TRAIN_MASK_DIR,\n",
    "    VAL_IMG_DIR,\n",
    "    VAL_MASK_DIR,\n",
    "    BATCH_SIZE,\n",
    "    train_transform,\n",
    "    val_transforms,\n",
    ")"
   ]
  },
  {
   "cell_type": "code",
   "execution_count": 45,
   "metadata": {},
   "outputs": [],
   "source": [
    "#METRICS FOR UNET\n",
    "\n",
    "def calculate_metrics(outputs, targets):\n",
    "    outputs = outputs > 0.5\n",
    "    targets = targets > 0.5\n",
    "    accuracy = accuracy_score(targets.flatten(), outputs.flatten())\n",
    "    mean_iou = recall_score(targets.flatten(), outputs.flatten())\n",
    "    return accuracy, mean_iou\n",
    "\n",
    "def dice_coefficient(y_true, y_pred, smooth=1):\n",
    "    intersection = torch.sum(y_true * y_pred)\n",
    "    union = torch.sum(y_true) + torch.sum(y_pred)\n",
    "    dice = (2. * intersection + smooth) / (union + smooth)\n",
    "    return dice\n",
    "\n",
    "class DiceLoss(torch.nn.Module):\n",
    "    def __init__(self, smooth=1):\n",
    "        super(DiceLoss, self).__init__()\n",
    "        self.smooth = smooth\n",
    "\n",
    "    def forward(self, y_pred, y_true):\n",
    "        dice = dice_coefficient(y_true.view(-1), y_pred.view(-1), self.smooth)\n",
    "        return 1 - dice\n",
    "dice_loss = DiceLoss()"
   ]
  },
  {
   "cell_type": "code",
   "execution_count": 46,
   "metadata": {},
   "outputs": [
    {
     "name": "stderr",
     "output_type": "stream",
     "text": [
      "Epoch 1/30 - Training: 100%|██████████| 1000/1000 [10:20<00:00,  1.61it/s, loss=0.631]\n",
      "Epoch 1/30 - Validation: 100%|██████████| 250/250 [01:23<00:00,  2.98it/s, val_loss=0.587]\n"
     ]
    },
    {
     "name": "stdout",
     "output_type": "stream",
     "text": [
      "Epoch 1/30, Training Loss: 0.5466, Validation Loss: 0.5866, Validation Accuracy: 0.8425, mean_iou: 0.7921\n"
     ]
    },
    {
     "name": "stderr",
     "output_type": "stream",
     "text": [
      "Epoch 2/30 - Training: 100%|██████████| 1000/1000 [13:24<00:00,  1.24it/s, loss=0.626]\n",
      "Epoch 2/30 - Validation: 100%|██████████| 250/250 [01:20<00:00,  3.10it/s, val_loss=0.541]\n"
     ]
    },
    {
     "name": "stdout",
     "output_type": "stream",
     "text": [
      "Epoch 2/30, Training Loss: 0.4437, Validation Loss: 0.5414, Validation Accuracy: 0.8711, mean_iou: 0.6911\n"
     ]
    },
    {
     "name": "stderr",
     "output_type": "stream",
     "text": [
      "Epoch 3/30 - Training: 100%|██████████| 1000/1000 [13:40<00:00,  1.22it/s, loss=0.313]\n",
      "Epoch 3/30 - Validation: 100%|██████████| 250/250 [01:29<00:00,  2.80it/s, val_loss=0.521]\n"
     ]
    },
    {
     "name": "stdout",
     "output_type": "stream",
     "text": [
      "Epoch 3/30, Training Loss: 0.4104, Validation Loss: 0.5207, Validation Accuracy: 0.8675, mean_iou: 0.7484\n"
     ]
    },
    {
     "name": "stderr",
     "output_type": "stream",
     "text": [
      "Epoch 4/30 - Training: 100%|██████████| 1000/1000 [13:07<00:00,  1.27it/s, loss=0.307]\n",
      "Epoch 4/30 - Validation: 100%|██████████| 250/250 [01:20<00:00,  3.10it/s, val_loss=0.503]\n"
     ]
    },
    {
     "name": "stdout",
     "output_type": "stream",
     "text": [
      "Epoch 4/30, Training Loss: 0.3972, Validation Loss: 0.5026, Validation Accuracy: 0.8729, mean_iou: 0.7645\n"
     ]
    },
    {
     "name": "stderr",
     "output_type": "stream",
     "text": [
      "Epoch 5/30 - Training: 100%|██████████| 1000/1000 [13:04<00:00,  1.27it/s, loss=0.362]\n",
      "Epoch 5/30 - Validation: 100%|██████████| 250/250 [01:20<00:00,  3.10it/s, val_loss=0.505]\n"
     ]
    },
    {
     "name": "stdout",
     "output_type": "stream",
     "text": [
      "Epoch 5/30, Training Loss: 0.3890, Validation Loss: 0.5046, Validation Accuracy: 0.8667, mean_iou: 0.7910\n"
     ]
    },
    {
     "name": "stderr",
     "output_type": "stream",
     "text": [
      "Epoch 6/30 - Training: 100%|██████████| 1000/1000 [13:02<00:00,  1.28it/s, loss=0.257]\n",
      "Epoch 6/30 - Validation: 100%|██████████| 250/250 [01:20<00:00,  3.11it/s, val_loss=0.497]\n"
     ]
    },
    {
     "name": "stdout",
     "output_type": "stream",
     "text": [
      "Epoch 6/30, Training Loss: 0.3860, Validation Loss: 0.4968, Validation Accuracy: 0.8889, mean_iou: 0.6785\n"
     ]
    },
    {
     "name": "stderr",
     "output_type": "stream",
     "text": [
      "Epoch 7/30 - Training: 100%|██████████| 1000/1000 [13:08<00:00,  1.27it/s, loss=0.436]\n",
      "Epoch 7/30 - Validation: 100%|██████████| 250/250 [01:20<00:00,  3.09it/s, val_loss=0.495]\n"
     ]
    },
    {
     "name": "stdout",
     "output_type": "stream",
     "text": [
      "Epoch 7/30, Training Loss: 0.3798, Validation Loss: 0.4946, Validation Accuracy: 0.8824, mean_iou: 0.7249\n"
     ]
    },
    {
     "name": "stderr",
     "output_type": "stream",
     "text": [
      "Epoch 8/30 - Training: 100%|██████████| 1000/1000 [13:05<00:00,  1.27it/s, loss=0.346]\n",
      "Epoch 8/30 - Validation: 100%|██████████| 250/250 [01:20<00:00,  3.09it/s, val_loss=0.492]\n"
     ]
    },
    {
     "name": "stdout",
     "output_type": "stream",
     "text": [
      "Epoch 8/30, Training Loss: 0.3734, Validation Loss: 0.4918, Validation Accuracy: 0.8821, mean_iou: 0.7330\n"
     ]
    },
    {
     "name": "stderr",
     "output_type": "stream",
     "text": [
      "Epoch 9/30 - Training: 100%|██████████| 1000/1000 [13:20<00:00,  1.25it/s, loss=0.247]\n",
      "Epoch 9/30 - Validation: 100%|██████████| 250/250 [01:29<00:00,  2.79it/s, val_loss=0.484]\n"
     ]
    },
    {
     "name": "stdout",
     "output_type": "stream",
     "text": [
      "Epoch 9/30, Training Loss: 0.3746, Validation Loss: 0.4841, Validation Accuracy: 0.8861, mean_iou: 0.7297\n"
     ]
    },
    {
     "name": "stderr",
     "output_type": "stream",
     "text": [
      "Epoch 10/30 - Training: 100%|██████████| 1000/1000 [13:31<00:00,  1.23it/s, loss=0.247]\n",
      "Epoch 10/30 - Validation: 100%|██████████| 250/250 [01:20<00:00,  3.09it/s, val_loss=0.51] \n"
     ]
    },
    {
     "name": "stdout",
     "output_type": "stream",
     "text": [
      "Epoch 10/30, Training Loss: 0.3717, Validation Loss: 0.5095, Validation Accuracy: 0.8973, mean_iou: 0.6007\n"
     ]
    },
    {
     "name": "stderr",
     "output_type": "stream",
     "text": [
      "Epoch 11/30 - Training: 100%|██████████| 1000/1000 [13:06<00:00,  1.27it/s, loss=0.272]\n",
      "Epoch 11/30 - Validation: 100%|██████████| 250/250 [01:20<00:00,  3.09it/s, val_loss=0.485]\n"
     ]
    },
    {
     "name": "stdout",
     "output_type": "stream",
     "text": [
      "Epoch 11/30, Training Loss: 0.3703, Validation Loss: 0.4853, Validation Accuracy: 0.8867, mean_iou: 0.7258\n"
     ]
    },
    {
     "name": "stderr",
     "output_type": "stream",
     "text": [
      "Epoch 12/30 - Training: 100%|██████████| 1000/1000 [13:05<00:00,  1.27it/s, loss=0.518]\n",
      "Epoch 12/30 - Validation: 100%|██████████| 250/250 [01:20<00:00,  3.09it/s, val_loss=0.487]\n"
     ]
    },
    {
     "name": "stdout",
     "output_type": "stream",
     "text": [
      "Epoch 12/30, Training Loss: 0.3671, Validation Loss: 0.4870, Validation Accuracy: 0.8972, mean_iou: 0.6505\n"
     ]
    },
    {
     "name": "stderr",
     "output_type": "stream",
     "text": [
      "Epoch 13/30 - Training: 100%|██████████| 1000/1000 [13:07<00:00,  1.27it/s, loss=0.4] \n",
      "Epoch 13/30 - Validation: 100%|██████████| 250/250 [01:20<00:00,  3.09it/s, val_loss=0.486]\n"
     ]
    },
    {
     "name": "stdout",
     "output_type": "stream",
     "text": [
      "Epoch 13/30, Training Loss: 0.3661, Validation Loss: 0.4861, Validation Accuracy: 0.8839, mean_iou: 0.7379\n"
     ]
    },
    {
     "name": "stderr",
     "output_type": "stream",
     "text": [
      "Epoch 14/30 - Training: 100%|██████████| 1000/1000 [13:07<00:00,  1.27it/s, loss=0.417]\n",
      "Epoch 14/30 - Validation: 100%|██████████| 250/250 [01:20<00:00,  3.09it/s, val_loss=0.483]\n"
     ]
    },
    {
     "name": "stdout",
     "output_type": "stream",
     "text": [
      "Epoch 14/30, Training Loss: 0.3640, Validation Loss: 0.4830, Validation Accuracy: 0.8884, mean_iou: 0.7176\n"
     ]
    },
    {
     "name": "stderr",
     "output_type": "stream",
     "text": [
      "Epoch 15/30 - Training: 100%|██████████| 1000/1000 [13:07<00:00,  1.27it/s, loss=0.426]\n",
      "Epoch 15/30 - Validation: 100%|██████████| 250/250 [01:20<00:00,  3.09it/s, val_loss=0.485]\n"
     ]
    },
    {
     "name": "stdout",
     "output_type": "stream",
     "text": [
      "Epoch 15/30, Training Loss: 0.3631, Validation Loss: 0.4851, Validation Accuracy: 0.8826, mean_iou: 0.7501\n"
     ]
    },
    {
     "name": "stderr",
     "output_type": "stream",
     "text": [
      "Epoch 16/30 - Training: 100%|██████████| 1000/1000 [13:05<00:00,  1.27it/s, loss=0.491]\n",
      "Epoch 16/30 - Validation: 100%|██████████| 250/250 [01:20<00:00,  3.10it/s, val_loss=0.481]\n"
     ]
    },
    {
     "name": "stdout",
     "output_type": "stream",
     "text": [
      "Epoch 16/30, Training Loss: 0.3600, Validation Loss: 0.4810, Validation Accuracy: 0.8874, mean_iou: 0.7281\n",
      "Epoch 00016: reducing learning rate of group 0 to 5.0000e-05.\n"
     ]
    },
    {
     "name": "stderr",
     "output_type": "stream",
     "text": [
      "Epoch 17/30 - Training: 100%|██████████| 1000/1000 [13:05<00:00,  1.27it/s, loss=0.415]\n",
      "Epoch 17/30 - Validation: 100%|██████████| 250/250 [01:20<00:00,  3.09it/s, val_loss=0.481]\n"
     ]
    },
    {
     "name": "stdout",
     "output_type": "stream",
     "text": [
      "Epoch 17/30, Training Loss: 0.3536, Validation Loss: 0.4814, Validation Accuracy: 0.8941, mean_iou: 0.6861\n"
     ]
    },
    {
     "name": "stderr",
     "output_type": "stream",
     "text": [
      "Epoch 18/30 - Training: 100%|██████████| 1000/1000 [13:07<00:00,  1.27it/s, loss=0.268]\n",
      "Epoch 18/30 - Validation: 100%|██████████| 250/250 [01:20<00:00,  3.10it/s, val_loss=0.477]\n"
     ]
    },
    {
     "name": "stdout",
     "output_type": "stream",
     "text": [
      "Epoch 18/30, Training Loss: 0.3506, Validation Loss: 0.4767, Validation Accuracy: 0.8928, mean_iou: 0.7072\n"
     ]
    },
    {
     "name": "stderr",
     "output_type": "stream",
     "text": [
      "Epoch 19/30 - Training: 100%|██████████| 1000/1000 [13:08<00:00,  1.27it/s, loss=0.252]\n",
      "Epoch 19/30 - Validation: 100%|██████████| 250/250 [01:20<00:00,  3.09it/s, val_loss=0.481]\n"
     ]
    },
    {
     "name": "stdout",
     "output_type": "stream",
     "text": [
      "Epoch 19/30, Training Loss: 0.3461, Validation Loss: 0.4808, Validation Accuracy: 0.8912, mean_iou: 0.7041\n"
     ]
    },
    {
     "name": "stderr",
     "output_type": "stream",
     "text": [
      "Epoch 20/30 - Training: 100%|██████████| 1000/1000 [13:07<00:00,  1.27it/s, loss=0.405]\n",
      "Epoch 20/30 - Validation: 100%|██████████| 250/250 [01:20<00:00,  3.11it/s, val_loss=0.481]\n"
     ]
    },
    {
     "name": "stdout",
     "output_type": "stream",
     "text": [
      "Epoch 20/30, Training Loss: 0.3480, Validation Loss: 0.4815, Validation Accuracy: 0.8874, mean_iou: 0.7266\n"
     ]
    },
    {
     "name": "stderr",
     "output_type": "stream",
     "text": [
      "Epoch 21/30 - Training: 100%|██████████| 1000/1000 [13:01<00:00,  1.28it/s, loss=0.479]\n",
      "Epoch 21/30 - Validation: 100%|██████████| 250/250 [01:20<00:00,  3.11it/s, val_loss=0.486]\n"
     ]
    },
    {
     "name": "stdout",
     "output_type": "stream",
     "text": [
      "Epoch 21/30, Training Loss: 0.3457, Validation Loss: 0.4859, Validation Accuracy: 0.8944, mean_iou: 0.6709\n"
     ]
    },
    {
     "name": "stderr",
     "output_type": "stream",
     "text": [
      "Epoch 22/30 - Training: 100%|██████████| 1000/1000 [13:03<00:00,  1.28it/s, loss=0.366]\n",
      "Epoch 22/30 - Validation: 100%|██████████| 250/250 [01:20<00:00,  3.11it/s, val_loss=0.479]\n"
     ]
    },
    {
     "name": "stdout",
     "output_type": "stream",
     "text": [
      "Epoch 22/30, Training Loss: 0.3445, Validation Loss: 0.4786, Validation Accuracy: 0.8906, mean_iou: 0.7142\n",
      "Epoch 00022: reducing learning rate of group 0 to 2.5000e-05.\n"
     ]
    },
    {
     "name": "stderr",
     "output_type": "stream",
     "text": [
      "Epoch 23/30 - Training: 100%|██████████| 1000/1000 [13:07<00:00,  1.27it/s, loss=0.235]\n",
      "Epoch 23/30 - Validation: 100%|██████████| 250/250 [01:20<00:00,  3.09it/s, val_loss=0.48] \n"
     ]
    },
    {
     "name": "stdout",
     "output_type": "stream",
     "text": [
      "Epoch 23/30, Training Loss: 0.3415, Validation Loss: 0.4804, Validation Accuracy: 0.8904, mean_iou: 0.7081\n"
     ]
    },
    {
     "name": "stderr",
     "output_type": "stream",
     "text": [
      "Epoch 24/30 - Training: 100%|██████████| 1000/1000 [13:08<00:00,  1.27it/s, loss=0.264]\n",
      "Epoch 24/30 - Validation: 100%|██████████| 250/250 [01:20<00:00,  3.10it/s, val_loss=0.476]\n"
     ]
    },
    {
     "name": "stdout",
     "output_type": "stream",
     "text": [
      "Epoch 24/30, Training Loss: 0.3387, Validation Loss: 0.4757, Validation Accuracy: 0.8915, mean_iou: 0.7161\n"
     ]
    },
    {
     "name": "stderr",
     "output_type": "stream",
     "text": [
      "Epoch 25/30 - Training: 100%|██████████| 1000/1000 [13:03<00:00,  1.28it/s, loss=0.139]\n",
      "Epoch 25/30 - Validation: 100%|██████████| 250/250 [01:20<00:00,  3.11it/s, val_loss=0.479]\n"
     ]
    },
    {
     "name": "stdout",
     "output_type": "stream",
     "text": [
      "Epoch 25/30, Training Loss: 0.3380, Validation Loss: 0.4793, Validation Accuracy: 0.8895, mean_iou: 0.7172\n"
     ]
    },
    {
     "name": "stderr",
     "output_type": "stream",
     "text": [
      "Epoch 26/30 - Training: 100%|██████████| 1000/1000 [13:04<00:00,  1.27it/s, loss=0.374]\n",
      "Epoch 26/30 - Validation: 100%|██████████| 250/250 [01:20<00:00,  3.11it/s, val_loss=0.478]\n"
     ]
    },
    {
     "name": "stdout",
     "output_type": "stream",
     "text": [
      "Epoch 26/30, Training Loss: 0.3365, Validation Loss: 0.4779, Validation Accuracy: 0.8870, mean_iou: 0.7391\n"
     ]
    },
    {
     "name": "stderr",
     "output_type": "stream",
     "text": [
      "Epoch 27/30 - Training: 100%|██████████| 1000/1000 [13:02<00:00,  1.28it/s, loss=0.361]\n",
      "Epoch 27/30 - Validation: 100%|██████████| 250/250 [01:20<00:00,  3.12it/s, val_loss=0.475]\n"
     ]
    },
    {
     "name": "stdout",
     "output_type": "stream",
     "text": [
      "Epoch 27/30, Training Loss: 0.3360, Validation Loss: 0.4748, Validation Accuracy: 0.8913, mean_iou: 0.7198\n"
     ]
    },
    {
     "name": "stderr",
     "output_type": "stream",
     "text": [
      "Epoch 28/30 - Training: 100%|██████████| 1000/1000 [13:04<00:00,  1.28it/s, loss=0.332]\n",
      "Epoch 28/30 - Validation: 100%|██████████| 250/250 [01:20<00:00,  3.11it/s, val_loss=0.477]\n"
     ]
    },
    {
     "name": "stdout",
     "output_type": "stream",
     "text": [
      "Epoch 28/30, Training Loss: 0.3353, Validation Loss: 0.4767, Validation Accuracy: 0.8915, mean_iou: 0.7106\n",
      "Epoch 00028: reducing learning rate of group 0 to 1.2500e-05.\n"
     ]
    },
    {
     "name": "stderr",
     "output_type": "stream",
     "text": [
      "Epoch 29/30 - Training: 100%|██████████| 1000/1000 [13:04<00:00,  1.28it/s, loss=0.35]\n",
      "Epoch 29/30 - Validation: 100%|██████████| 250/250 [01:20<00:00,  3.11it/s, val_loss=0.48] \n"
     ]
    },
    {
     "name": "stdout",
     "output_type": "stream",
     "text": [
      "Epoch 29/30, Training Loss: 0.3327, Validation Loss: 0.4800, Validation Accuracy: 0.8946, mean_iou: 0.6835\n"
     ]
    },
    {
     "name": "stderr",
     "output_type": "stream",
     "text": [
      "Epoch 30/30 - Training: 100%|██████████| 1000/1000 [13:05<00:00,  1.27it/s, loss=0.4] \n",
      "Epoch 30/30 - Validation: 100%|██████████| 250/250 [01:20<00:00,  3.09it/s, val_loss=0.479]\n"
     ]
    },
    {
     "name": "stdout",
     "output_type": "stream",
     "text": [
      "Epoch 30/30, Training Loss: 0.3341, Validation Loss: 0.4791, Validation Accuracy: 0.8957, mean_iou: 0.6793\n",
      "UNET model is saved at 'models/UNET.pth'\n"
     ]
    }
   ],
   "source": [
    "from tqdm import tqdm\n",
    "\n",
    "best_avg_accuracy = -1\n",
    "best_model_state = None\n",
    "\n",
    "optimizer = torch.optim.NAdam(unet_model.parameters(), lr=LEARNING_RATE)\n",
    "scheduler = ReduceLROnPlateau(optimizer, mode='max', factor=0.5, patience=5, verbose=True)\n",
    "\n",
    "epochs_num, training_loss, validation_loss, accuracy_scores, mean_iou_scores = [], [], [], [], []\n",
    "\n",
    "for epoch in range(NUM_EPOCHS):\n",
    "    train_loss = 0.0\n",
    "    val_loss = 0.0\n",
    "    \n",
    "    unet_model.train()\n",
    "    train_loader_tqdm = tqdm(train_loader, desc=f'Epoch {epoch+1}/{NUM_EPOCHS} - Training')\n",
    "    for batch_idx, (data, target) in enumerate(train_loader_tqdm):\n",
    "        data, target = data.to(device), target.to(device)\n",
    "        output = unet_model(data)\n",
    "        loss = dice_loss(output, target)\n",
    "        optimizer.zero_grad()\n",
    "        loss.backward()\n",
    "        optimizer.step()\n",
    "        train_loss += loss.item()\n",
    "        train_loader_tqdm.set_postfix({'loss': loss.item()})\n",
    "\n",
    "    unet_model.eval() \n",
    "    accuracies, mean_ious= [], []\n",
    "    val_loader_tqdm = tqdm(val_loader, desc=f'Epoch {epoch+1}/{NUM_EPOCHS} - Validation')\n",
    "    with torch.no_grad():\n",
    "        for data_val, target_val in val_loader_tqdm:\n",
    "            data_val, target_val = data_val.to(device), target_val.to(device)\n",
    "            output_val = unet_model(data_val)\n",
    "            val_loss += dice_loss(output_val, target_val).item()\n",
    "            accuracy, mean_iou = calculate_metrics(output_val.cpu().numpy(), target_val.cpu().numpy())\n",
    "            accuracies.append(accuracy)\n",
    "            mean_ious.append(mean_iou)\n",
    "            val_loader_tqdm.set_postfix({'val_loss': val_loss / len(val_loader)})\n",
    "\n",
    "    train_loss /= len(train_loader)\n",
    "    val_loss /= len(val_loader)\n",
    "    avg_accuracy = np.mean(accuracies)\n",
    "    avg_ious = np.mean(mean_ious)\n",
    "        \n",
    "    epochs_num.append(epoch+1)\n",
    "    training_loss.append(train_loss)\n",
    "    validation_loss.append(val_loss)\n",
    "    accuracy_scores.append(avg_accuracy)\n",
    "    mean_iou_scores.append(avg_ious)\n",
    "        \n",
    "    print(f'Epoch {epoch+1}/{NUM_EPOCHS}, Training Loss: {train_loss:.4f}, Validation Loss: {val_loss:.4f}, Validation Accuracy: {avg_accuracy:.4f}, mean_iou: {avg_ious:.4f}')\n",
    "    \n",
    "    scheduler.step(avg_accuracy)\n",
    "\n",
    "\n",
    "    if avg_accuracy > best_avg_accuracy:\n",
    "        best_avg_accuracy = avg_accuracy\n",
    "\n",
    "        best_model_state = unet_model.state_dict()\n",
    "\n",
    "unet_model.load_state_dict(best_model_state)\n",
    "torch.save(unet_model.state_dict(), 'models/UNET.pth')\n",
    "print(\"UNET model is saved at 'models/UNET.pth'\")\n"
   ]
  },
  {
   "cell_type": "code",
   "execution_count": 47,
   "metadata": {},
   "outputs": [
    {
     "data": {
      "image/png": "[encoded data removed]",
      "text/plain": [
       "<Figure size 640x480 with 1 Axes>"
      ]
     },
     "metadata": {},
     "output_type": "display_data"
    }
   ],
   "source": [
    "#PLOTTING DATA\n",
    "\n",
    "plt.plot(epochs_num, training_loss, label='Training Loss')\n",
    "plt.plot(epochs_num, validation_loss, label='Validation Loss')\n",
    "plt.xlabel('Epochs')\n",
    "plt.ylabel('Values')\n",
    "plt.title('Training and Validation Loss')\n",
    "plt.legend()\n",
    "plt.show()\n"
   ]
  },
  {
   "cell_type": "code",
   "execution_count": 48,
   "metadata": {},
   "outputs": [
    {
     "data": {
      "image/png": "[encoded data removed]",
      "text/plain": [
       "<Figure size 640x480 with 1 Axes>"
      ]
     },
     "metadata": {},
     "output_type": "display_data"
    }
   ],
   "source": [
    "#PLOTTING DATA\n",
    "\n",
    "plt.plot(epochs_num, accuracy_scores)\n",
    "plt.xlabel('Epochs')\n",
    "plt.ylabel('Accuracy')\n",
    "plt.title('Epochs vs Accuracy')\n",
    "plt.show()"
   ]
  },
  {
   "cell_type": "code",
   "execution_count": 49,
   "metadata": {},
   "outputs": [
    {
     "data": {
      "image/png": "[encoded data removed]",
      "text/plain": [
       "<Figure size 640x480 with 1 Axes>"
      ]
     },
     "metadata": {},
     "output_type": "display_data"
    }
   ],
   "source": [
    "#PLOTTING DATA\n",
    "\n",
    "plt.plot(epochs_num, mean_iou_scores)\n",
    "plt.xlabel('Epochs')\n",
    "plt.ylabel('iou_score')\n",
    "plt.title('Epochs vs iou_score')\n",
    "plt.show()"
   ]
  },
  {
   "cell_type": "code",
   "execution_count": 50,
   "metadata": {},
   "outputs": [
    {
     "name": "stdout",
     "output_type": "stream",
     "text": [
      "Loading UNET model from 'models/UNET.pth'\n"
     ]
    },
    {
     "data": {
      "text/plain": [
       "<All keys matched successfully>"
      ]
     },
     "execution_count": 50,
     "metadata": {},
     "output_type": "execute_result"
    }
   ],
   "source": [
    "#LOADING UNET MODEL\n",
    "\n",
    "print(\"Loading UNET model from 'models/UNET.pth'\")\n",
    "unet_model.load_state_dict(torch.load('models/UNET.pth'))"
   ]
  },
  {
   "cell_type": "code",
   "execution_count": 51,
   "metadata": {},
   "outputs": [
    {
     "name": "stdout",
     "output_type": "stream",
     "text": [
      "images saved sucessfully to data/output/\n"
     ]
    }
   ],
   "source": [
    "#SAVING OUTPUTS AS .png FILES \n",
    "\n",
    "def save_tensor_as_image(tensor, filename):\n",
    "    os.makedirs(os.path.dirname(filename), exist_ok=True)\n",
    "    save_image(tensor, filename)\n",
    "\n",
    "path ='data/output'\n",
    "if not os.path.exists(path):\n",
    "        os.makedirs(path)\n",
    "\n",
    "output_counter = 0\n",
    "\n",
    "for data_val, target_val in val_loader:\n",
    "    data_val, target_val = data_val.to(device), target_val.to(device)\n",
    "    output_val = unet_model(data_val)\n",
    "    output_val = (output_val > 0.5).float()\n",
    "    \n",
    "    for output in output_val:\n",
    "        save_tensor_as_image(output, os.path.join(path, f'image_{output_counter}.png'))\n",
    "        output_counter += 1\n",
    "\n",
    "print(f\"images saved sucessfully to {path}/\")\n"
   ]
  },
  {
   "cell_type": "code",
   "execution_count": 54,
   "metadata": {},
   "outputs": [
    {
     "name": "stdout",
     "output_type": "stream",
     "text": [
      "The input image has PNEUMONIA\n"
     ]
    },
    {
     "data": {
      "image/png": "[encoded data removed]",
      "text/plain": [
       "<Figure size 640x480 with 3 Axes>"
      ]
     },
     "metadata": {},
     "output_type": "display_data"
    }
   ],
   "source": [
    "# TESTING A SINGLE IMAGE\n",
    "\n",
    "def process_image(image_path, image_size, mode, device):\n",
    "    # CLAHE\n",
    "    image = cv2.imread(image_path)\n",
    "\n",
    "    if len(image.shape) == 3:\n",
    "        image = cv2.cvtColor(image, cv2.COLOR_BGR2GRAY)\n",
    "\n",
    "    clahe = cv2.createCLAHE(clipLimit=2.0, tileGridSize=(8,8))\n",
    "    clahe_image = clahe.apply(image)\n",
    "    \n",
    "    # Load and preprocess image\n",
    "    image = Image.fromarray(clahe_image).convert(mode)\n",
    "    preprocess = transforms.Compose([\n",
    "        transforms.Resize(image_size),\n",
    "        transforms.ToTensor(),\n",
    "        transforms.Normalize(mean=[0.0], std=[1.0]),\n",
    "    ])\n",
    "    image = preprocess(image)\n",
    "    image = image.unsqueeze(0)\n",
    "    image = image.to(device)\n",
    "    \n",
    "    return image\n",
    "\n",
    "\n",
    "image1_path = \"data/val_images/image_1.png\"\n",
    "image2_path = \"data/val_masks/image_1.png\"\n",
    "image_size = 224\n",
    "mode = \"RGB\"  \n",
    "\n",
    "image1 = process_image(image1_path, image_size, mode, device)\n",
    "\n",
    "\n",
    "# Load CNN model\n",
    "cnn_model.load_state_dict(torch.load('models/CNN.pth'))\n",
    "with torch.no_grad():\n",
    "    cnn_model.eval()\n",
    "    features = cnn_model(image1)\n",
    "\n",
    "\n",
    "# Apply PCA\n",
    "pca = PCA(n_components=100)\n",
    "features_np = features.squeeze().cpu().numpy()\n",
    "features_np = features_np.reshape(-1)\n",
    "features_pca = features_np[:100]\n",
    "\n",
    "# Apply ELM\n",
    "elm_model.load_state_dict(torch.load('models/ELM.pth'))\n",
    "with torch.no_grad():\n",
    "    elm_model.eval()\n",
    "    test_outputs = elm_model(features_pca)\n",
    "    _, predicted = torch.max(test_outputs, 1)\n",
    "\n",
    "value = predicted.tolist()[0]\n",
    "\n",
    "if value == 1:\n",
    "    print(\"The input image has PNEUMONIA\")\n",
    "    image1 = process_image(image1_path, (224, 224), 'RGB', device)\n",
    "    image2 = process_image(image2_path, (224, 224), 'RGB', device)\n",
    "    unet_model.load_state_dict(torch.load(\"models/UNET.pth\"))\n",
    "    with torch.no_grad():\n",
    "        output = unet_model(image1)\n",
    "        output = (output > 0.5).float()\n",
    "    numpy_array1 = image1.permute(2, 3, 1, 0).cpu().numpy().squeeze(-1)\n",
    "    numpy_array2 = image2.permute(2, 3, 1, 0).cpu().numpy().squeeze(-1)\n",
    "    numpy_array3 = output.permute(2, 3, 1, 0).cpu().numpy().squeeze(-1)\n",
    "\n",
    "    fig, axes = plt.subplots(1, 3)\n",
    "\n",
    "    # Plot each image\n",
    "    axes[0].imshow(numpy_array1)\n",
    "    axes[0].axis('off')\n",
    "    axes[0].set_title('Image')\n",
    "\n",
    "    axes[1].imshow(numpy_array2)\n",
    "    axes[1].axis('off')\n",
    "    axes[1].set_title('Mask')\n",
    "    \n",
    "    axes[2].imshow(numpy_array3, cmap = \"gray\")\n",
    "    axes[2].axis('off')\n",
    "    axes[2].set_title('Ouput')\n",
    "\n",
    "    plt.show()\n",
    "    \n",
    "else:\n",
    "    print(\"The input image has NO PNEUMONIA\")\n",
    "    "
   ]
  },
  {
   "cell_type": "code",
   "execution_count": 53,
   "metadata": {},
   "outputs": [],
   "source": [
    "import os\n",
    "import cv2\n",
    "import numpy as np\n",
    "\n",
    "def overlay_masks_on_images(image_folder, output_folder, mask_output_folder, mask_folder):\n",
    "    # Iterate through each image file in the folder\n",
    "    if not os.path.exists(output_folder):\n",
    "        os.makedirs(output_folder)\n",
    "        \n",
    "    for filename in os.listdir(image_folder):\n",
    "        if filename.endswith('.png'):\n",
    "            # Load the image and masks\n",
    "            image = cv2.imread(os.path.join(image_folder, filename))\n",
    "            mask1 = cv2.imread(os.path.join(mask_output_folder, filename), cv2.IMREAD_GRAYSCALE)\n",
    "            mask2 = cv2.imread(os.path.join(mask_folder, filename), cv2.IMREAD_GRAYSCALE)\n",
    "\n",
    "            # Convert the masks to 3-channel images\n",
    "            mask1_color = cv2.cvtColor(mask1, cv2.COLOR_GRAY2BGR)\n",
    "            mask2_color = cv2.cvtColor(mask2, cv2.COLOR_GRAY2BGR)\n",
    "\n",
    "            # Set transparency levels for the masks\n",
    "            alpha = 0.7  # Transparency level\n",
    "\n",
    "            # Overlay the masks with different colors onto the image\n",
    "            mask1_color[np.where((mask1_color == [255, 255, 255]).all(axis=2))] = [0, 0, 255]  # Red color\n",
    "            mask2_color[np.where((mask2_color == [255, 255, 255]).all(axis=2))] = [0, 255, 0]  # Green color\n",
    "\n",
    "            # Overlay the colored masks onto the original image with preserved brightness\n",
    "            overlay = cv2.addWeighted(image, 1, mask1_color, alpha, 0)\n",
    "            overlay = cv2.addWeighted(overlay, 1, mask2_color, alpha, 0)\n",
    "\n",
    "            # Save the overlaid image\n",
    "            cv2.imwrite(os.path.join(output_folder, f'{filename}'), overlay)\n",
    "\n",
    "# Example usage:\n",
    "overlay_masks_on_images('data/val_images/', 'data/processed_output/', 'data/output/', 'data/val_masks/')\n"
   ]
  },
  {
   "cell_type": "code",
   "execution_count": null,
   "metadata": {},
   "outputs": [],
   "source": []
  }
 ],
 "metadata": {
  "kernelspec": {
   "display_name": "Python 3 (ipykernel)",
   "language": "python",
   "name": "python3"
  },
  "language_info": {
   "codemirror_mode": {
    "name": "ipython",
    "version": 3
   },
   "file_extension": ".py",
   "mimetype": "text/x-python",
   "name": "python",
   "nbconvert_exporter": "python",
   "pygments_lexer": "ipython3",
   "version": "3.10.0"
  }
 },
 "nbformat": 4,
 "nbformat_minor": 4
}
